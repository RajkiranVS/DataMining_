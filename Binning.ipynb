{
 "cells": [
  {
   "cell_type": "code",
   "execution_count": 1,
   "id": "f4088372",
   "metadata": {},
   "outputs": [],
   "source": [
    "import numpy as np"
   ]
  },
  {
   "cell_type": "code",
   "execution_count": 2,
   "id": "9603f17d",
   "metadata": {},
   "outputs": [
    {
     "name": "stdout",
     "output_type": "stream",
     "text": [
      "Please enter number of elements per bin:4\n"
     ]
    }
   ],
   "source": [
    "count = int(input(\"Please enter number of elements per bin:\"))"
   ]
  },
  {
   "cell_type": "code",
   "execution_count": 36,
   "id": "4ec1b3fa",
   "metadata": {},
   "outputs": [
    {
     "name": "stdout",
     "output_type": "stream",
     "text": [
      "Enter bin1 0 element:5\n",
      "Enter bin1 1 element:10\n",
      "Enter bin1 2 element:11\n",
      "Enter bin1 3 element:13\n"
     ]
    }
   ],
   "source": [
    "bin1 = []\n",
    "for i in range(count):\n",
    "    bin1.append(int(input(\"Enter bin1 {} element:\".format(i))))"
   ]
  },
  {
   "cell_type": "code",
   "execution_count": 4,
   "id": "09247377",
   "metadata": {},
   "outputs": [
    {
     "name": "stdout",
     "output_type": "stream",
     "text": [
      "Enter bin2 0 element:15\n",
      "Enter bin2 1 element:35\n",
      "Enter bin2 2 element:50\n",
      "Enter bin2 3 element:55\n"
     ]
    }
   ],
   "source": [
    "bin2 = []\n",
    "for i in range(count):\n",
    "    bin2.append(int(input(\"Enter bin2 {} element:\".format(i))))"
   ]
  },
  {
   "cell_type": "code",
   "execution_count": 5,
   "id": "9459d973",
   "metadata": {},
   "outputs": [
    {
     "name": "stdout",
     "output_type": "stream",
     "text": [
      "Enter bin3 elements:72\n",
      "Enter bin3 elements:92\n",
      "Enter bin3 elements:204\n",
      "Enter bin3 elements:215\n"
     ]
    }
   ],
   "source": [
    "bin3 = []\n",
    "for i in range(count):\n",
    "    bin3.append(int(input(\"Enter bin3 elements:\")))"
   ]
  },
  {
   "cell_type": "code",
   "execution_count": 10,
   "id": "234bf8c9",
   "metadata": {},
   "outputs": [],
   "source": [
    "def get_mean_binning(binn):\n",
    "    binn.sort()\n",
    "    mean = np.mean(binn,dtype=int)    \n",
    "    return [mean]*len(binn)"
   ]
  },
  {
   "cell_type": "code",
   "execution_count": 14,
   "id": "9673eb00",
   "metadata": {},
   "outputs": [],
   "source": [
    "def get_median_binning(binn):\n",
    "    binn.sort()\n",
    "    median = np.median(binn).astype(int)\n",
    "    return [median]*len(binn)"
   ]
  },
  {
   "cell_type": "code",
   "execution_count": 40,
   "id": "df006b8a",
   "metadata": {},
   "outputs": [],
   "source": [
    "def get_boundary_binning(binn):\n",
    "    binn.sort()\n",
    "    min_val = min(binn)\n",
    "    max_val = max(binn)\n",
    "    for i in range(len(binn)):\n",
    "        for j in range(i+1):\n",
    "            if abs(min_val-binn[j]) < abs(max_val-binn[j]):\n",
    "                binn[j] = min_val\n",
    "            else:\n",
    "                binn[j] = max_val\n",
    "    return binn"
   ]
  },
  {
   "cell_type": "code",
   "execution_count": 11,
   "id": "88f59650",
   "metadata": {},
   "outputs": [
    {
     "name": "stdout",
     "output_type": "stream",
     "text": [
      "bin1 mean_bin: [9, 9, 9, 9]\n",
      "bin2 mean_bin: [38, 38, 38, 38]\n",
      "bin3 mean_bin: [145, 145, 145, 145]\n"
     ]
    }
   ],
   "source": [
    "print('bin1 mean_bin:', get_mean_binning(bin1))\n",
    "print('bin2 mean_bin:', get_mean_binning(bin2))\n",
    "print('bin3 mean_bin:', get_mean_binning(bin3))"
   ]
  },
  {
   "cell_type": "code",
   "execution_count": 15,
   "id": "d3bca1dc",
   "metadata": {},
   "outputs": [
    {
     "name": "stdout",
     "output_type": "stream",
     "text": [
      "bin1 median_bin: [10, 10, 10, 10]\n",
      "bin2 median_bin: [42, 42, 42, 42]\n",
      "bin3 median_bin: [148, 148, 148, 148]\n"
     ]
    }
   ],
   "source": [
    "print('bin1 median_bin:', get_median_binning(bin1))\n",
    "print('bin2 median_bin:', get_median_binning(bin2))\n",
    "print('bin3 median_bin:', get_median_binning(bin3))"
   ]
  },
  {
   "cell_type": "code",
   "execution_count": 41,
   "id": "1a41e738",
   "metadata": {
    "scrolled": true
   },
   "outputs": [
    {
     "name": "stdout",
     "output_type": "stream",
     "text": [
      "bin1 boundry_bin: [5, 13, 13, 13]\n",
      "bin2 boundry_bin: [15, 55, 55, 55]\n",
      "bin3 boundry_bin: [72, 72, 215, 215]\n"
     ]
    }
   ],
   "source": [
    "print('bin1 boundry_bin:', get_boundary_binning(bin1))\n",
    "print('bin2 boundry_bin:', get_boundary_binning(bin2))\n",
    "print('bin3 boundry_bin:', get_boundary_binning(bin3))"
   ]
  }
 ],
 "metadata": {
  "kernelspec": {
   "display_name": "Python 3",
   "language": "python",
   "name": "python3"
  },
  "language_info": {
   "codemirror_mode": {
    "name": "ipython",
    "version": 3
   },
   "file_extension": ".py",
   "mimetype": "text/x-python",
   "name": "python",
   "nbconvert_exporter": "python",
   "pygments_lexer": "ipython3",
   "version": "3.9.4"
  }
 },
 "nbformat": 4,
 "nbformat_minor": 5
}
