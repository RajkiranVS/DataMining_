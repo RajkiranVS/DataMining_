{
 "cells": [
  {
   "cell_type": "code",
   "execution_count": 1,
   "id": "2a3a34d4",
   "metadata": {},
   "outputs": [],
   "source": [
    "import pandas as pd"
   ]
  },
  {
   "cell_type": "code",
   "execution_count": 2,
   "id": "ba4d6194",
   "metadata": {},
   "outputs": [],
   "source": [
    "df = pd.DataFrame([{'Subject':'Subject 1','Marks':70,'Std Dev. of marks':15, 'Mean mark of class':60},\n",
    "                   {'Subject':'Subject 2','Marks':65,'Std Dev. of marks':6, 'Mean mark of class':60},])"
   ]
  },
  {
   "cell_type": "code",
   "execution_count": 3,
   "id": "0861c099",
   "metadata": {},
   "outputs": [],
   "source": [
    "df.index = df['Subject']"
   ]
  },
  {
   "cell_type": "code",
   "execution_count": 4,
   "id": "b6e2a6ef",
   "metadata": {},
   "outputs": [],
   "source": [
    "df.drop('Subject',axis=1,inplace=True)"
   ]
  },
  {
   "cell_type": "code",
   "execution_count": 5,
   "id": "1ef13d35",
   "metadata": {},
   "outputs": [],
   "source": [
    "df['Z_Score'] = df['Marks'] - df['Mean mark of class']/df['Std Dev. of marks']"
   ]
  },
  {
   "cell_type": "code",
   "execution_count": 6,
   "id": "1427632b",
   "metadata": {},
   "outputs": [
    {
     "data": {
      "text/html": [
       "<div>\n",
       "<style scoped>\n",
       "    .dataframe tbody tr th:only-of-type {\n",
       "        vertical-align: middle;\n",
       "    }\n",
       "\n",
       "    .dataframe tbody tr th {\n",
       "        vertical-align: top;\n",
       "    }\n",
       "\n",
       "    .dataframe thead th {\n",
       "        text-align: right;\n",
       "    }\n",
       "</style>\n",
       "<table border=\"1\" class=\"dataframe\">\n",
       "  <thead>\n",
       "    <tr style=\"text-align: right;\">\n",
       "      <th></th>\n",
       "      <th>Marks</th>\n",
       "      <th>Std Dev. of marks</th>\n",
       "      <th>Mean mark of class</th>\n",
       "      <th>Z_Score</th>\n",
       "    </tr>\n",
       "    <tr>\n",
       "      <th>Subject</th>\n",
       "      <th></th>\n",
       "      <th></th>\n",
       "      <th></th>\n",
       "      <th></th>\n",
       "    </tr>\n",
       "  </thead>\n",
       "  <tbody>\n",
       "    <tr>\n",
       "      <th>Subject 1</th>\n",
       "      <td>70</td>\n",
       "      <td>15</td>\n",
       "      <td>60</td>\n",
       "      <td>66.0</td>\n",
       "    </tr>\n",
       "    <tr>\n",
       "      <th>Subject 2</th>\n",
       "      <td>65</td>\n",
       "      <td>6</td>\n",
       "      <td>60</td>\n",
       "      <td>55.0</td>\n",
       "    </tr>\n",
       "  </tbody>\n",
       "</table>\n",
       "</div>"
      ],
      "text/plain": [
       "           Marks  Std Dev. of marks  Mean mark of class  Z_Score\n",
       "Subject                                                         \n",
       "Subject 1     70                 15                  60     66.0\n",
       "Subject 2     65                  6                  60     55.0"
      ]
     },
     "execution_count": 6,
     "metadata": {},
     "output_type": "execute_result"
    }
   ],
   "source": [
    "df"
   ]
  }
 ],
 "metadata": {
  "kernelspec": {
   "display_name": "Python 3",
   "language": "python",
   "name": "python3"
  },
  "language_info": {
   "codemirror_mode": {
    "name": "ipython",
    "version": 3
   },
   "file_extension": ".py",
   "mimetype": "text/x-python",
   "name": "python",
   "nbconvert_exporter": "python",
   "pygments_lexer": "ipython3",
   "version": "3.9.4"
  }
 },
 "nbformat": 4,
 "nbformat_minor": 5
}
