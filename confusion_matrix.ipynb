{
 "cells": [
  {
   "cell_type": "code",
   "execution_count": 1,
   "id": "28af2ccf",
   "metadata": {},
   "outputs": [],
   "source": [
    "from sklearn.metrics import confusion_matrix"
   ]
  },
  {
   "cell_type": "code",
   "execution_count": 5,
   "id": "32facc99",
   "metadata": {},
   "outputs": [],
   "source": [
    "y_actual = ['not spam']*5 + ['spam']*5"
   ]
  },
  {
   "cell_type": "code",
   "execution_count": 6,
   "id": "26cd3a38",
   "metadata": {},
   "outputs": [],
   "source": [
    "pred_prob = [0.001,0.100,0.500,0.600,0.980,0.400,0.800,0.900,0.995,0.999]"
   ]
  },
  {
   "cell_type": "code",
   "execution_count": 7,
   "id": "0a6dac28",
   "metadata": {},
   "outputs": [],
   "source": [
    "y_pred = ['not spam' if i < 0.990 else 'spam' for i in pred_prob]"
   ]
  },
  {
   "cell_type": "code",
   "execution_count": 9,
   "id": "b530fb56",
   "metadata": {},
   "outputs": [
    {
     "data": {
      "text/plain": [
       "array([[5, 0],\n",
       "       [3, 2]], dtype=int64)"
      ]
     },
     "execution_count": 9,
     "metadata": {},
     "output_type": "execute_result"
    }
   ],
   "source": [
    "confusion_matrix(y_true=y_actual,y_pred=y_pred)"
   ]
  }
 ],
 "metadata": {
  "kernelspec": {
   "display_name": "Python 3",
   "language": "python",
   "name": "python3"
  },
  "language_info": {
   "codemirror_mode": {
    "name": "ipython",
    "version": 3
   },
   "file_extension": ".py",
   "mimetype": "text/x-python",
   "name": "python",
   "nbconvert_exporter": "python",
   "pygments_lexer": "ipython3",
   "version": "3.9.4"
  }
 },
 "nbformat": 4,
 "nbformat_minor": 5
}
