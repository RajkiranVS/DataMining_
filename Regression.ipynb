{
 "cells": [
  {
   "cell_type": "code",
   "execution_count": 1,
   "id": "686be52e",
   "metadata": {},
   "outputs": [],
   "source": [
    "import pandas as pd\n",
    "import numpy as np"
   ]
  },
  {
   "cell_type": "code",
   "execution_count": 2,
   "id": "0bb8db95",
   "metadata": {},
   "outputs": [],
   "source": [
    "df = pd.DataFrame([{'Sample': 1, 'Time': 1, 'Number of Messages': 2},\n",
    "                   {'Sample': 2, 'Time': 2, 'Number of Messages': 5}])"
   ]
  },
  {
   "cell_type": "code",
   "execution_count": 3,
   "id": "e48d653e",
   "metadata": {},
   "outputs": [],
   "source": [
    "X = np.array(df['Time'].values.tolist())\n",
    "y = np.array(df['Number of Messages'].values.tolist())"
   ]
  },
  {
   "cell_type": "code",
   "execution_count": 4,
   "id": "e22935b4",
   "metadata": {},
   "outputs": [],
   "source": [
    "A = np.vstack([X, np.ones(len(X))]).T"
   ]
  },
  {
   "cell_type": "code",
   "execution_count": 5,
   "id": "6c16fd4c",
   "metadata": {},
   "outputs": [],
   "source": [
    "#Calculating Slope and intercept\n",
    "m, c = np.linalg.lstsq(A, y, rcond=None)[0]"
   ]
  },
  {
   "cell_type": "code",
   "execution_count": 6,
   "id": "da014bf6",
   "metadata": {},
   "outputs": [],
   "source": [
    "#Number of messages at Time=3\n",
    "y3 = int(m*3 + c)"
   ]
  },
  {
   "cell_type": "code",
   "execution_count": 7,
   "id": "38782f52",
   "metadata": {},
   "outputs": [
    {
     "data": {
      "text/plain": [
       "8"
      ]
     },
     "execution_count": 7,
     "metadata": {},
     "output_type": "execute_result"
    }
   ],
   "source": [
    "y3"
   ]
  }
 ],
 "metadata": {
  "kernelspec": {
   "display_name": "Python 3",
   "language": "python",
   "name": "python3"
  },
  "language_info": {
   "codemirror_mode": {
    "name": "ipython",
    "version": 3
   },
   "file_extension": ".py",
   "mimetype": "text/x-python",
   "name": "python",
   "nbconvert_exporter": "python",
   "pygments_lexer": "ipython3",
   "version": "3.9.4"
  }
 },
 "nbformat": 4,
 "nbformat_minor": 5
}
