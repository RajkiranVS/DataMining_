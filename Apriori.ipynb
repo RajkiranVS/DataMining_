{
 "cells": [
  {
   "cell_type": "code",
   "execution_count": 1,
   "id": "8344d48e",
   "metadata": {},
   "outputs": [],
   "source": [
    "import pandas as pd\n",
    "from apyori import apriori"
   ]
  },
  {
   "cell_type": "code",
   "execution_count": 2,
   "id": "889c5de0",
   "metadata": {},
   "outputs": [],
   "source": [
    "df = pd.DataFrame([{'Transaction ID':1,'Items':{'a','b','c'}},\n",
    "                   {'Transaction ID':2,'Items':{'b','c','d','e'}},\n",
    "                   {'Transaction ID':3,'Items':{'c','d'}},\n",
    "                   {'Transaction ID':4,'Items':{'a','b','d'}},\n",
    "                   {'Transaction ID':5,'Items':{'a','b','c'}}])"
   ]
  },
  {
   "cell_type": "code",
   "execution_count": 3,
   "id": "71aa3ccd",
   "metadata": {},
   "outputs": [
    {
     "name": "stdout",
     "output_type": "stream",
     "text": [
      "[{'c', 'a', 'b'} {'d', 'c', 'e', 'b'} {'d', 'c'} {'d', 'a', 'b'}\n",
      " {'c', 'a', 'b'}]\n"
     ]
    }
   ],
   "source": [
    "transactions = []\n",
    "for i in range(0, df.shape[0]):\n",
    "    transactions.append(str(df['Items'].values))\n",
    "\n",
    "print(transactions[0])"
   ]
  },
  {
   "cell_type": "code",
   "execution_count": 4,
   "id": "24a32deb",
   "metadata": {},
   "outputs": [],
   "source": [
    "rules = apriori(df['Items'], min_confidence = 0.7)"
   ]
  },
  {
   "cell_type": "code",
   "execution_count": 5,
   "id": "1f34e2ad",
   "metadata": {},
   "outputs": [],
   "source": [
    "results = list(rules)"
   ]
  },
  {
   "cell_type": "code",
   "execution_count": 6,
   "id": "17de2325",
   "metadata": {},
   "outputs": [
    {
     "data": {
      "text/plain": [
       "[RelationRecord(items=frozenset({'b'}), support=0.8, ordered_statistics=[OrderedStatistic(items_base=frozenset(), items_add=frozenset({'b'}), confidence=0.8, lift=1.0)]),\n",
       " RelationRecord(items=frozenset({'c'}), support=0.8, ordered_statistics=[OrderedStatistic(items_base=frozenset(), items_add=frozenset({'c'}), confidence=0.8, lift=1.0)]),\n",
       " RelationRecord(items=frozenset({'a', 'b'}), support=0.6, ordered_statistics=[OrderedStatistic(items_base=frozenset({'a'}), items_add=frozenset({'b'}), confidence=1.0, lift=1.25), OrderedStatistic(items_base=frozenset({'b'}), items_add=frozenset({'a'}), confidence=0.7499999999999999, lift=1.2499999999999998)]),\n",
       " RelationRecord(items=frozenset({'c', 'b'}), support=0.6, ordered_statistics=[OrderedStatistic(items_base=frozenset({'b'}), items_add=frozenset({'c'}), confidence=0.7499999999999999, lift=0.9374999999999998), OrderedStatistic(items_base=frozenset({'c'}), items_add=frozenset({'b'}), confidence=0.7499999999999999, lift=0.9374999999999998)]),\n",
       " RelationRecord(items=frozenset({'e', 'b'}), support=0.2, ordered_statistics=[OrderedStatistic(items_base=frozenset({'e'}), items_add=frozenset({'b'}), confidence=1.0, lift=1.25)]),\n",
       " RelationRecord(items=frozenset({'c', 'e'}), support=0.2, ordered_statistics=[OrderedStatistic(items_base=frozenset({'e'}), items_add=frozenset({'c'}), confidence=1.0, lift=1.25)]),\n",
       " RelationRecord(items=frozenset({'d', 'e'}), support=0.2, ordered_statistics=[OrderedStatistic(items_base=frozenset({'e'}), items_add=frozenset({'d'}), confidence=1.0, lift=1.6666666666666667)]),\n",
       " RelationRecord(items=frozenset({'c', 'a', 'b'}), support=0.4, ordered_statistics=[OrderedStatistic(items_base=frozenset({'a', 'c'}), items_add=frozenset({'b'}), confidence=1.0, lift=1.25)]),\n",
       " RelationRecord(items=frozenset({'d', 'a', 'b'}), support=0.2, ordered_statistics=[OrderedStatistic(items_base=frozenset({'d', 'a'}), items_add=frozenset({'b'}), confidence=1.0, lift=1.25)]),\n",
       " RelationRecord(items=frozenset({'c', 'e', 'b'}), support=0.2, ordered_statistics=[OrderedStatistic(items_base=frozenset({'e'}), items_add=frozenset({'c', 'b'}), confidence=1.0, lift=1.6666666666666667), OrderedStatistic(items_base=frozenset({'e', 'b'}), items_add=frozenset({'c'}), confidence=1.0, lift=1.25), OrderedStatistic(items_base=frozenset({'c', 'e'}), items_add=frozenset({'b'}), confidence=1.0, lift=1.25)]),\n",
       " RelationRecord(items=frozenset({'d', 'e', 'b'}), support=0.2, ordered_statistics=[OrderedStatistic(items_base=frozenset({'e'}), items_add=frozenset({'d', 'b'}), confidence=1.0, lift=2.5), OrderedStatistic(items_base=frozenset({'e', 'b'}), items_add=frozenset({'d'}), confidence=1.0, lift=1.6666666666666667), OrderedStatistic(items_base=frozenset({'d', 'e'}), items_add=frozenset({'b'}), confidence=1.0, lift=1.25)]),\n",
       " RelationRecord(items=frozenset({'d', 'c', 'e'}), support=0.2, ordered_statistics=[OrderedStatistic(items_base=frozenset({'e'}), items_add=frozenset({'d', 'c'}), confidence=1.0, lift=2.5), OrderedStatistic(items_base=frozenset({'c', 'e'}), items_add=frozenset({'d'}), confidence=1.0, lift=1.6666666666666667), OrderedStatistic(items_base=frozenset({'d', 'e'}), items_add=frozenset({'c'}), confidence=1.0, lift=1.25)]),\n",
       " RelationRecord(items=frozenset({'d', 'c', 'e', 'b'}), support=0.2, ordered_statistics=[OrderedStatistic(items_base=frozenset({'e'}), items_add=frozenset({'d', 'c', 'b'}), confidence=1.0, lift=5.0), OrderedStatistic(items_base=frozenset({'e', 'b'}), items_add=frozenset({'d', 'c'}), confidence=1.0, lift=2.5), OrderedStatistic(items_base=frozenset({'c', 'e'}), items_add=frozenset({'d', 'b'}), confidence=1.0, lift=2.5), OrderedStatistic(items_base=frozenset({'d', 'e'}), items_add=frozenset({'c', 'b'}), confidence=1.0, lift=1.6666666666666667), OrderedStatistic(items_base=frozenset({'d', 'c', 'b'}), items_add=frozenset({'e'}), confidence=1.0, lift=5.0), OrderedStatistic(items_base=frozenset({'c', 'e', 'b'}), items_add=frozenset({'d'}), confidence=1.0, lift=1.6666666666666667), OrderedStatistic(items_base=frozenset({'d', 'e', 'b'}), items_add=frozenset({'c'}), confidence=1.0, lift=1.25), OrderedStatistic(items_base=frozenset({'d', 'c', 'e'}), items_add=frozenset({'b'}), confidence=1.0, lift=1.25)])]"
      ]
     },
     "execution_count": 6,
     "metadata": {},
     "output_type": "execute_result"
    }
   ],
   "source": [
    "results"
   ]
  },
  {
   "cell_type": "code",
   "execution_count": 9,
   "id": "aa7c358a",
   "metadata": {},
   "outputs": [
    {
     "name": "stdout",
     "output_type": "stream",
     "text": [
      "           items  support                                 ordered_statistics\n",
      "0            (b)      0.8                              [((), (b), 0.8, 1.0)]\n",
      "1            (c)      0.8                              [((), (c), 0.8, 1.0)]\n",
      "2         (a, b)      0.6  [((a), (b), 1.0, 1.25), ((b), (a), 0.749999999...\n",
      "3         (c, b)      0.6  [((b), (c), 0.7499999999999999, 0.937499999999...\n",
      "4         (e, b)      0.2                            [((e), (b), 1.0, 1.25)]\n",
      "5         (c, e)      0.2                            [((e), (c), 1.0, 1.25)]\n",
      "6         (d, e)      0.2              [((e), (d), 1.0, 1.6666666666666667)]\n",
      "7      (c, a, b)      0.4                         [((a, c), (b), 1.0, 1.25)]\n",
      "8      (d, a, b)      0.2                         [((d, a), (b), 1.0, 1.25)]\n",
      "9      (c, e, b)      0.2  [((e), (c, b), 1.0, 1.6666666666666667), ((e, ...\n",
      "10     (d, e, b)      0.2  [((e), (d, b), 1.0, 2.5), ((e, b), (d), 1.0, 1...\n",
      "11     (d, c, e)      0.2  [((e), (d, c), 1.0, 2.5), ((c, e), (d), 1.0, 1...\n",
      "12  (d, c, e, b)      0.2  [((e), (d, c, b), 1.0, 5.0), ((e, b), (d, c), ...\n"
     ]
    }
   ],
   "source": [
    "results = pd.DataFrame(results)\n",
    "print(results)"
   ]
  }
 ],
 "metadata": {
  "kernelspec": {
   "display_name": "Python 3",
   "language": "python",
   "name": "python3"
  },
  "language_info": {
   "codemirror_mode": {
    "name": "ipython",
    "version": 3
   },
   "file_extension": ".py",
   "mimetype": "text/x-python",
   "name": "python",
   "nbconvert_exporter": "python",
   "pygments_lexer": "ipython3",
   "version": "3.9.4"
  }
 },
 "nbformat": 4,
 "nbformat_minor": 5
}
